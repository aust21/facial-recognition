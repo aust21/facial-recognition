{
 "cells": [
  {
   "cell_type": "code",
   "execution_count": 17,
   "id": "fb08da88",
   "metadata": {},
   "outputs": [],
   "source": [
    "import cv2\n",
    "import pickle\n",
    "import numpy as np\n",
    "import os\n",
    "import sklearn as sk"
   ]
  },
  {
   "cell_type": "code",
   "execution_count": 16,
   "id": "8a20fa31",
   "metadata": {},
   "outputs": [],
   "source": [
    "cam = cv2.VideoCapture(0)\n",
    "classifier = cv2.CascadeClassifier('haarcascade_frontalface_default.xml')\n",
    "\n",
    "faces_data = []\n",
    "\n",
    "i = 0\n",
    "name = \"Austin\"\n",
    "while True:\n",
    "    \n",
    "    ret, frame = cam.read()\n",
    "    gray_feed = cv2.cvtColor(frame, cv2.COLOR_BGR2GRAY)\n",
    "    \n",
    "    recognition = classifier.detectMultiScale(gray_feed, 1.1, 10)\n",
    "    \n",
    "    \n",
    "    for (x, y, w, h) in recognition:\n",
    "        crop_img = frame[y:y+h, x:x+w, :]\n",
    "        resized_img = cv2.resize(crop_img, (50,50))\n",
    "        \n",
    "\n",
    "        if len(faces_data) <= 20 and i%10==0:\n",
    "            faces_data.append(resized_img)\n",
    "        i+=1\n",
    "        cv2.putText(frame, str(len(faces_data)), (50,50), cv2.FONT_HERSHEY_COMPLEX, 1, (0,0,0))\n",
    "        cv2.rectangle(frame, (x, y), (x + w, y + h), color=(255, 255, 255), thickness = 1)\n",
    "        \n",
    "    \n",
    "    cv2.imshow(\"Frame\",frame)\n",
    "        \n",
    "    if cv2.waitKey(1) & 0xFF == ord('q') or len(faces_data)==100:\n",
    "        break\n",
    "        \n",
    "cam.release()\n",
    "cv2.destroyAllWindows()\n",
    "\n",
    "faces_data = np.asarray(faces_data)\n",
    "faces_data = faces_data.reshape(100, -1)\n",
    "\n",
    "if \"names.pkl\" not in os.listdir(\"data/\"):\n",
    "    names = [name]*100\n",
    "    with open(\"data/names.pkl\", \"wb\") as f:\n",
    "        pickle.dump(names, f)\n",
    "else:\n",
    "    with open(\"data/names.pkl\", \"rb\") as f:\n",
    "        names=pickle.load(f)\n",
    "    names = names+[name]*100\n",
    "    with open(\"data/names.pkl\", \"wb\") as f:\n",
    "        pickle.dump(names, f)\n",
    "\n",
    "if \"faces.pkl\" not in os.listdir(\"data/\"):\n",
    "    with open(\"data/faces.pkl\", \"wb\") as f:\n",
    "        pickle.dump(names, f)\n",
    "else:\n",
    "    with open(\"data/faces.pkl\", \"rb\") as f:\n",
    "        faces=pickle.load(f)\n",
    "    faces = np.append(faces, faces_data, axis=0)\n",
    "    with open(\"data/faces.pkl\", \"wb\") as f:\n",
    "        pickle.dump(faces, f)"
   ]
  },
  {
   "cell_type": "code",
   "execution_count": null,
   "id": "f4c7e9f6-6ebb-4d76-a55b-2cb05dc1cf0f",
   "metadata": {},
   "outputs": [],
   "source": []
  }
 ],
 "metadata": {
  "interpreter": {
   "hash": "916dbcbb3f70747c44a77c7bcd40155683ae19c65e1c03b4aa3499c5328201f1"
  },
  "kernelspec": {
   "display_name": "Python 3 (ipykernel)",
   "language": "python",
   "name": "python3"
  },
  "language_info": {
   "codemirror_mode": {
    "name": "ipython",
    "version": 3
   },
   "file_extension": ".py",
   "mimetype": "text/x-python",
   "name": "python",
   "nbconvert_exporter": "python",
   "pygments_lexer": "ipython3",
   "version": "3.10.12"
  }
 },
 "nbformat": 4,
 "nbformat_minor": 5
}
