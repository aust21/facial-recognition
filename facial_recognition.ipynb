{
 "cells": [
  {
   "cell_type": "code",
   "execution_count": 1,
   "id": "fb08da88",
   "metadata": {},
   "outputs": [],
   "source": [
    "import cv2\n"
   ]
  },
  {
   "cell_type": "code",
   "execution_count": 10,
   "id": "8a20fa31",
   "metadata": {},
   "outputs": [],
   "source": [
    "def capture(cam, classifier) -> None:\n",
    "    while True:\n",
    "        ret, frame = cam.read()\n",
    "        gray_feed = cv2.cvtColor(frame, cv2.COLOR_BGR2GRAY)\n",
    "        \n",
    "        recognition = classifier.detectMultiScale(gray_feed, 1.1, 10)\n",
    "        \n",
    "        \n",
    "        for (x, y, w, h) in recognition:\n",
    "            cv2.rectangle(frame, (x, y), (x + w, y + h), (0, 255, 0), 4)\n",
    "\n",
    "        try: \n",
    "            cv2.imshow(\"Frame\",frame)\n",
    "        except Exception:\n",
    "            print(\"Error\")\n",
    "            break\n",
    "        if cv2.waitKey(1) & 0xFF == ord('q'):\n",
    "            break\n",
    "            \n",
    "    cam.release()\n",
    "    cv2.destroyAllWindows()"
   ]
  },
  {
   "cell_type": "code",
   "execution_count": 11,
   "id": "dc2e890e-2143-4df1-aaa2-8550b9d93453",
   "metadata": {},
   "outputs": [],
   "source": [
    "def main() -> None:\n",
    "    cam = cv2.VideoCapture(0)\n",
    "    classifier = cv2.CascadeClassifier('haarcascade_frontalface_default.xml')\n",
    "    capture(cam, classifier)\n",
    "main()"
   ]
  },
  {
   "cell_type": "code",
   "execution_count": null,
   "id": "fd91f348-32fb-4010-9674-d6fcb78413a5",
   "metadata": {},
   "outputs": [],
   "source": []
  }
 ],
 "metadata": {
  "interpreter": {
   "hash": "916dbcbb3f70747c44a77c7bcd40155683ae19c65e1c03b4aa3499c5328201f1"
  },
  "kernelspec": {
   "display_name": "Python 3 (ipykernel)",
   "language": "python",
   "name": "python3"
  },
  "language_info": {
   "codemirror_mode": {
    "name": "ipython",
    "version": 3
   },
   "file_extension": ".py",
   "mimetype": "text/x-python",
   "name": "python",
   "nbconvert_exporter": "python",
   "pygments_lexer": "ipython3",
   "version": "3.10.12"
  }
 },
 "nbformat": 4,
 "nbformat_minor": 5
}
