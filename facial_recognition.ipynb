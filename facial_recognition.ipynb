{
 "cells": [
  {
   "cell_type": "code",
   "execution_count": 2,
   "id": "fb08da88",
   "metadata": {},
   "outputs": [],
   "source": [
    "import cv2"
   ]
  },
  {
   "cell_type": "code",
   "execution_count": 3,
   "id": "8a20fa31",
   "metadata": {},
   "outputs": [],
   "source": [
    "cam = cv2.VideoCapture(0)\n",
    "classifier = cv2.CascadeClassifier('haarcascade_frontalface_default.xml')\n",
    "font = cv2.FONT_HERSHEY_SIMPLEX \n",
    "fontScale = 1\n",
    "color = (0, 255, 0) \n",
    "thickness = 2\n",
    "org = (100, 150) \n",
    "while True:\n",
    "    \n",
    "    ret, frame = cam.read()\n",
    "    gray_feed = cv2.cvtColor(frame, cv2.COLOR_BGR2GRAY)\n",
    "    \n",
    "    recognition = classifier.detectMultiScale(gray_feed, 1.1, 10)\n",
    "    \n",
    "    \n",
    "    for (x, y, w, h) in recognition:\n",
    "        cv2.rectangle(frame, (x, y), (x + w, y + h), color=(0, 255, 0), thickness = 2)\n",
    "        cv2.putText(frame, 'Alien', org, font,  \n",
    "                   fontScale, color, thickness, cv2.LINE_AA) \n",
    "    \n",
    "    cv2.imshow('Hello World',frame)\n",
    "    \n",
    "#     if cv2.waitKey(1) & 0xFF == ord('s'):\n",
    "#         cv2.imwrite('validation/actual.png', frame)\n",
    "        \n",
    "    if cv2.waitKey(1) & 0xFF == ord('q'):\n",
    "        break\n",
    "        \n",
    "cam.release()\n",
    "cv2.destroyAllWindows()"
   ]
  },
  {
   "cell_type": "code",
   "execution_count": null,
   "id": "b5ea0fc1",
   "metadata": {},
   "outputs": [],
   "source": []
  }
 ],
 "metadata": {
  "interpreter": {
   "hash": "916dbcbb3f70747c44a77c7bcd40155683ae19c65e1c03b4aa3499c5328201f1"
  },
  "kernelspec": {
   "display_name": "Python 3.10.12 64-bit",
   "language": "python",
   "name": "python3"
  },
  "language_info": {
   "codemirror_mode": {
    "name": "ipython",
    "version": 3
   },
   "file_extension": ".py",
   "mimetype": "text/x-python",
   "name": "python",
   "nbconvert_exporter": "python",
   "pygments_lexer": "ipython3",
   "version": "3.10.12"
  }
 },
 "nbformat": 4,
 "nbformat_minor": 5
}
